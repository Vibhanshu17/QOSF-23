{
  "nbformat": 4,
  "nbformat_minor": 0,
  "metadata": {
    "colab": {
      "provenance": []
    },
    "kernelspec": {
      "name": "python3",
      "display_name": "Python 3"
    },
    "language_info": {
      "name": "python"
    }
  },
  "cells": [
    {
      "cell_type": "markdown",
      "source": [
        "# Delivery Truck Packing Problem\n",
        "There are about 100 typical box sizes used to ship consumer goods in North America.\n",
        "Loading delivery trucks with items optimally is a complex combinatorial optimisation problem, especially when other constraints such as priority shipment status, order date, and truck weight/size limits are taken into account.\n",
        "\n",
        "\n",
        "We discuss a simplified problem:\n",
        "- 1 truck\n",
        "- 1 package size\n",
        "- upto 100 packages\n",
        "\n",
        "We need to consider\n",
        "- priority shipping status\n",
        "- days since the order was placed\n",
        "- delivery truck's weight capacity\n",
        "- delivery truck's size capacity\n",
        "\n",
        "\\\n",
        "\n",
        "---\n",
        "\n",
        "\n",
        "This problem was discussed during [CQM release at Qubit 2021](https://youtu.be/jTDnGox0c9Y?t=3920)"
      ],
      "metadata": {
        "id": "dX5paFBsttJy"
      }
    },
    {
      "cell_type": "markdown",
      "source": [
        "## CQM Development Process\n",
        "1. Write out the objective and constraints\n",
        "2. Define the binary and/or integer variables\n",
        "3. Convert the objective and constraints to math statements with binary and/or integer variables\n",
        "4. Build the CQM model in Ocean from the individual objectives and constraints"
      ],
      "metadata": {
        "id": "75iNJfflvV4g"
      }
    },
    {
      "cell_type": "markdown",
      "source": [
        "### Objectives\n",
        "1. Maximize the number of packages selected with priority shipping\n",
        "2. Minimze the number of days the packages are in transit\n",
        "\n",
        "### Constraints\n",
        "1. Do not exceed the maximum number of packages that can fit on the truck (100)\n",
        "2. Do not exceed the maximum weight capacity of the truck (3000 lbs, ~1360.7 kg)"
      ],
      "metadata": {
        "id": "Gy6QdaXrv3LP"
      }
    },
    {
      "cell_type": "markdown",
      "source": [
        "## Mathematical Statements\n",
        "\\begin{equation}\n",
        "  x_i = \\left\\{\n",
        "    \\begin{array}{ll}\n",
        "        1 & \\mbox{if package i is selected }  \\\\\n",
        "        0 & \\mbox{if package i is not selected}\n",
        "    \\end{array}\n",
        "        \\right.\n",
        "\\end{equation}\n",
        "\\\n",
        "\\begin{equation}\n",
        "p_i = \\mbox{priority of package, 1 for standard} \\\\\n",
        "d_i = \\mbox{number of days since package ordering} \\\\\n",
        "\\end{equation}\n",
        "\n",
        "\\begin{equation}\n",
        "P   = \\mbox{maximum packages that can fit on the truck} \\\\\n",
        "W   = \\mbox{maximum weight that the truck can carry}\n",
        "\\end{equation}\n",
        "  \n",
        "## Objectives\n",
        "1. $$ min \\ ( -   Σ _{i=0}^{N} p_i x_i) $$\n",
        "2. $$ min \\ (- Σ_{i=0}^{N} d_i x_i) $$\n",
        "\n",
        "## Constraints\n",
        "1. $$ \\Sigma_{i=0}^{N} x_i = P $$\n",
        "2. $$ \\Sigma_{i=0}^{N} w_i x_i  \\leq W $$"
      ],
      "metadata": {
        "id": "3tJ9DvgKwj9M"
      }
    },
    {
      "cell_type": "code",
      "source": [
        "# !pip install dwave.system"
      ],
      "metadata": {
        "id": "OkFufe2g06di"
      },
      "execution_count": null,
      "outputs": []
    },
    {
      "cell_type": "code",
      "source": [
        "# imports\n",
        "from dimod import ConstrainedQuadraticModel, Binary, quicksum\n",
        "from dwave.system import LeapHybridCQMSampler\n",
        "import numpy as np\n",
        "import random\n",
        "import itertools\n"
      ],
      "metadata": {
        "id": "I5YBqsoVvaE1"
      },
      "execution_count": 39,
      "outputs": []
    },
    {
      "cell_type": "code",
      "source": [
        "num_items = 300\n",
        "priority = [random.choice([1, 2, 3]) for _ in range(num_items)]\n",
        "days_since_order = [random.choice(list(range(4))) for _ in range(num_items)]\n",
        "weights = [random.randint(1, 100) for _ in range(num_items)] # between 200-700\n",
        "max_weight = 3000\n",
        "max_parcels = 100"
      ],
      "metadata": {
        "id": "RHCsiu2y3Il_"
      },
      "execution_count": 40,
      "outputs": []
    },
    {
      "cell_type": "code",
      "source": [
        "# Initialize CQM\n",
        "cqm = ConstrainedQuadraticModel()\n",
        "\n",
        "# Create list of bin variables\n",
        "bin_variables = [Binary(i) for i in range(num_items)]\n",
        "\n",
        "# Objective 1: consider priority shipping\n",
        "objective1 = -quicksum(priority[i] * bin_variables[i] for i in range(num_items))\n",
        "\n",
        "# Objective 2: consider number of days since order was placed\n",
        "objective2 = -quicksum(days_since_order[i] * bin_variables[i] for i in range(num_items))\n",
        "\n",
        "# Add objectives to the CQM\n",
        "cqm.set_objective(objective1 + objective2)\n"
      ],
      "metadata": {
        "id": "bzzG85002_3X"
      },
      "execution_count": 41,
      "outputs": []
    },
    {
      "cell_type": "code",
      "source": [
        "# Constraint 1: max parcels constraint\n",
        "cqm.add_constraint(quicksum(bin_variables[i] for i in range(num_items)) == max_parcels,\n",
        "                    label='max_parcels')\n",
        "\n",
        "# Constraint 2: max capacity constraint\n",
        "cqm.add_constraint(quicksum(weights[i] * bin_variables[i] for i in range(num_items)) <= max_weight,\n",
        "                   label='max_capacity')\n"
      ],
      "metadata": {
        "colab": {
          "base_uri": "https://localhost:8080/",
          "height": 35
        },
        "id": "9LcCsnoz4cyf",
        "outputId": "43b06ab8-39ff-4e01-c4d1-be9a6c71f864"
      },
      "execution_count": 42,
      "outputs": [
        {
          "output_type": "execute_result",
          "data": {
            "text/plain": [
              "'max_capacity'"
            ],
            "application/vnd.google.colaboratory.intrinsic+json": {
              "type": "string"
            }
          },
          "metadata": {},
          "execution_count": 42
        }
      ]
    },
    {
      "cell_type": "code",
      "source": [
        "api_token = ''\n",
        "cqm_sampler = LeapHybridCQMSampler(token=api_token)\n",
        "sampleset = cqm_sampler.sample_cqm(cqm, time_limit=5, label='Truck Packing Problem')  # default: 5s"
      ],
      "metadata": {
        "id": "fT07Urrz5yeE"
      },
      "execution_count": 43,
      "outputs": []
    },
    {
      "cell_type": "code",
      "source": [
        "# first = next(itertools.filterfalse(lambda d: not getattr(d, 'is_feasible'), list(sampleset.data())))\n",
        "# infeasible_sample = next(itertools.filterfalse(lambda d: getattr(d, 'is_feasible'), list(sampleset.data())))\n",
        "# print(infeasible_sample.is_satisfied)"
      ],
      "metadata": {
        "id": "4W_y3-LJ6uHH"
      },
      "execution_count": 45,
      "outputs": []
    },
    {
      "cell_type": "code",
      "source": [
        "print(sampleset.info)"
      ],
      "metadata": {
        "colab": {
          "base_uri": "https://localhost:8080/"
        },
        "id": "oDX7h6L4Yrkh",
        "outputId": "b9de49d2-a98b-4011-d30d-e092d949a2ae"
      },
      "execution_count": 46,
      "outputs": [
        {
          "output_type": "stream",
          "name": "stdout",
          "text": [
            "{'constraint_labels': ['max_parcels', 'max_capacity'], 'qpu_access_time': 32014, 'charge_time': 5000000, 'run_time': 5272072, 'problem_id': 'f50dce5e-e080-48dc-9d89-2c98a283b5d8', 'problem_label': 'Truck Packing Problem'}\n"
          ]
        }
      ]
    },
    {
      "cell_type": "code",
      "source": [
        "# Process the results\n",
        "feasible_sols = np.where(sampleset.record.is_feasible==True)\n",
        "if len(feasible_sols[0]):\n",
        "  first_feasible_sol = np.where(sampleset.record[feasible_sols[0][0]][0]==1)\n",
        "  \n",
        "  # Characterize the problem\n",
        "  problem_array = np.zeros((3, 4)).astype(int)\n",
        "  for i in range(num_items):\n",
        "    problem_array[-1 * (priority[i]-3)][-1 * (days_since_order[i]-3)] += 1\n",
        "\n",
        "  print('\\n********************** PROBLEM **********************')\n",
        "  print('                Days since order was placed            ')\n",
        "  print('{:>5s}{:>5s}{:^5s}{:^5s}{:^5s}'.format('Priority |', '3', '2', '1', '0'))\n",
        "  print('-' * 40)\n",
        "\n",
        "  for i in range(3):\n",
        "    print('{:>5s}{:>10s}{:^5s}{:^5s}{:^5s}'.format(str(-1 * (i-3)), str(problem_array[i][0]), \n",
        "                              str(problem_array[i][1]),str(problem_array[i][2]),str(problem_array[i][3])))\n",
        "      \n",
        "  solution_array = np.zeros((3, 4)).astype(int)\n",
        "  for i in first_feasible_sol[0]:\n",
        "    solution_array[-1 * (priority[i]-3)][-1 * (days_since_order[i]-3)] += 1\n",
        "\n",
        "  print('\\n********************** SOLUTION **********************')\n",
        "  print('                Days since order was placed            ')\n",
        "  print('{:>5s}{:>5s}{:^5s}{:^5s}{:^5s}'.format('Priority |', '3', '2', '1', '0'))\n",
        "  print('-' * 40)\n",
        "\n",
        "  for i in range(3):\n",
        "    print('{:>5s}{:>10s}{:^5s}{:^5s}{:^5s}'.format(str(-1 * (i-3)), str(solution_array[i][0]), \n",
        "                              str(solution_array[i][1]),str(solution_array[i][2]),str(solution_array[i][3])))\n",
        "      \n",
        "\n",
        "  print('Total number of selected items:', len(first_feasible_sol[0]))\n",
        "  print('Total weight of selected items:', sum([weights[i] for i in first_feasible_sol[0]]))"
      ],
      "metadata": {
        "colab": {
          "base_uri": "https://localhost:8080/"
        },
        "id": "udp7Ue5iSk_x",
        "outputId": "2e540f77-b1f7-46f9-b63d-7e893a31548e"
      },
      "execution_count": 47,
      "outputs": [
        {
          "output_type": "stream",
          "name": "stdout",
          "text": [
            "\n",
            "********************** PROBLEM **********************\n",
            "                Days since order was placed            \n",
            "Priority |    3  2    1    0  \n",
            "----------------------------------------\n",
            "    3        26 25   37   17  \n",
            "    2        17 35   29   27  \n",
            "    1        26 21   23   17  \n",
            "\n",
            "********************** SOLUTION **********************\n",
            "                Days since order was placed            \n",
            "Priority |    3  2    1    0  \n",
            "----------------------------------------\n",
            "    3        23 18   11    4  \n",
            "    2        12 12    1    0  \n",
            "    1        14  5    0    0  \n",
            "Total number of selected items: 100\n",
            "Total weight of selected items: 2994\n"
          ]
        }
      ]
    },
    {
      "cell_type": "code",
      "source": [],
      "metadata": {
        "id": "Jh7E3gADYPlK"
      },
      "execution_count": null,
      "outputs": []
    }
  ]
}
